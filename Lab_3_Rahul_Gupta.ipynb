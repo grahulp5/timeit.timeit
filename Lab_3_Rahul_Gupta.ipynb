{
 "cells": [
  {
   "cell_type": "markdown",
   "id": "8ada0896",
   "metadata": {},
   "source": [
    "# Learning Objectives\n",
    "Upon completion of this lesson, you will learn\n",
    "<ul>\n",
    "<li> How to time your <strong>Python</strong> code?\n",
    "<li> How to select appropriate data structures?\n",
    "<li> How to access <strong>Python</strong> collection elements using indices?\n",
    "</ul>"
   ]
  },
  {
   "cell_type": "code",
   "execution_count": 1,
   "id": "cb34fc1e",
   "metadata": {},
   "outputs": [],
   "source": [
    "#Importing timeit\n",
    "import timeit"
   ]
  },
  {
   "cell_type": "markdown",
   "id": "7b6103ff",
   "metadata": {},
   "source": [
    "## Task 1 (Marks 4)\n",
    "To get the content of a module you can use <strong>dir(module_name)</strong>.\n",
    "To get help about the module use <strong>help(module_name)</strong> or in jupyter <strong>module_name?</strong>"
   ]
  },
  {
   "cell_type": "markdown",
   "id": "72d13a2c",
   "metadata": {},
   "source": [
    "Check the content of the <b>timeit</b> Python module (Marks 2)"
   ]
  },
  {
   "cell_type": "code",
   "execution_count": 2,
   "id": "4d0f9e32",
   "metadata": {},
   "outputs": [
    {
     "data": {
      "text/plain": [
       "['Timer',\n",
       " '__all__',\n",
       " '__builtins__',\n",
       " '__cached__',\n",
       " '__doc__',\n",
       " '__file__',\n",
       " '__loader__',\n",
       " '__name__',\n",
       " '__package__',\n",
       " '__spec__',\n",
       " '_globals',\n",
       " 'default_number',\n",
       " 'default_repeat',\n",
       " 'default_timer',\n",
       " 'dummy_src_name',\n",
       " 'gc',\n",
       " 'itertools',\n",
       " 'main',\n",
       " 'reindent',\n",
       " 'repeat',\n",
       " 'sys',\n",
       " 'template',\n",
       " 'time',\n",
       " 'timeit']"
      ]
     },
     "execution_count": 2,
     "metadata": {},
     "output_type": "execute_result"
    }
   ],
   "source": [
    "# your Python code goes here\n",
    "#Getting the content of module timeit\n",
    "dir(timeit)"
   ]
  },
  {
   "cell_type": "code",
   "execution_count": 3,
   "id": "b99a0372",
   "metadata": {},
   "outputs": [
    {
     "name": "stdout",
     "output_type": "stream",
     "text": [
      "Help on module timeit:\n",
      "\n",
      "NAME\n",
      "    timeit - Tool for measuring execution time of small code snippets.\n",
      "\n",
      "MODULE REFERENCE\n",
      "    https://docs.python.org/3.9/library/timeit\n",
      "    \n",
      "    The following documentation is automatically generated from the Python\n",
      "    source files.  It may be incomplete, incorrect or include features that\n",
      "    are considered implementation detail and may vary between Python\n",
      "    implementations.  When in doubt, consult the module reference at the\n",
      "    location listed above.\n",
      "\n",
      "DESCRIPTION\n",
      "    This module avoids a number of common traps for measuring execution\n",
      "    times.  See also Tim Peters' introduction to the Algorithms chapter in\n",
      "    the Python Cookbook, published by O'Reilly.\n",
      "    \n",
      "    Library usage: see the Timer class.\n",
      "    \n",
      "    Command line usage:\n",
      "        python timeit.py [-n N] [-r N] [-s S] [-p] [-h] [--] [statement]\n",
      "    \n",
      "    Options:\n",
      "      -n/--number N: how many times to execute 'statement' (default: see below)\n",
      "      -r/--repeat N: how many times to repeat the timer (default 5)\n",
      "      -s/--setup S: statement to be executed once initially (default 'pass').\n",
      "                    Execution time of this setup statement is NOT timed.\n",
      "      -p/--process: use time.process_time() (default is time.perf_counter())\n",
      "      -v/--verbose: print raw timing results; repeat for more digits precision\n",
      "      -u/--unit: set the output time unit (nsec, usec, msec, or sec)\n",
      "      -h/--help: print this usage message and exit\n",
      "      --: separate options from statement, use when statement starts with -\n",
      "      statement: statement to be timed (default 'pass')\n",
      "    \n",
      "    A multi-line statement may be given by specifying each line as a\n",
      "    separate argument; indented lines are possible by enclosing an\n",
      "    argument in quotes and using leading spaces.  Multiple -s options are\n",
      "    treated similarly.\n",
      "    \n",
      "    If -n is not given, a suitable number of loops is calculated by trying\n",
      "    increasing numbers from the sequence 1, 2, 5, 10, 20, 50, ... until the\n",
      "    total time is at least 0.2 seconds.\n",
      "    \n",
      "    Note: there is a certain baseline overhead associated with executing a\n",
      "    pass statement.  It differs between versions.  The code here doesn't try\n",
      "    to hide it, but you should be aware of it.  The baseline overhead can be\n",
      "    measured by invoking the program without arguments.\n",
      "    \n",
      "    Classes:\n",
      "    \n",
      "        Timer\n",
      "    \n",
      "    Functions:\n",
      "    \n",
      "        timeit(string, string) -> float\n",
      "        repeat(string, string) -> list\n",
      "        default_timer() -> float\n",
      "\n",
      "CLASSES\n",
      "    builtins.object\n",
      "        Timer\n",
      "    \n",
      "    class Timer(builtins.object)\n",
      "     |  Timer(stmt='pass', setup='pass', timer=<built-in function perf_counter>, globals=None)\n",
      "     |  \n",
      "     |  Class for timing execution speed of small code snippets.\n",
      "     |  \n",
      "     |  The constructor takes a statement to be timed, an additional\n",
      "     |  statement used for setup, and a timer function.  Both statements\n",
      "     |  default to 'pass'; the timer function is platform-dependent (see\n",
      "     |  module doc string).  If 'globals' is specified, the code will be\n",
      "     |  executed within that namespace (as opposed to inside timeit's\n",
      "     |  namespace).\n",
      "     |  \n",
      "     |  To measure the execution time of the first statement, use the\n",
      "     |  timeit() method.  The repeat() method is a convenience to call\n",
      "     |  timeit() multiple times and return a list of results.\n",
      "     |  \n",
      "     |  The statements may contain newlines, as long as they don't contain\n",
      "     |  multi-line string literals.\n",
      "     |  \n",
      "     |  Methods defined here:\n",
      "     |  \n",
      "     |  __init__(self, stmt='pass', setup='pass', timer=<built-in function perf_counter>, globals=None)\n",
      "     |      Constructor.  See class doc string.\n",
      "     |  \n",
      "     |  autorange(self, callback=None)\n",
      "     |      Return the number of loops and time taken so that total time >= 0.2.\n",
      "     |      \n",
      "     |      Calls the timeit method with increasing numbers from the sequence\n",
      "     |      1, 2, 5, 10, 20, 50, ... until the time taken is at least 0.2\n",
      "     |      second.  Returns (number, time_taken).\n",
      "     |      \n",
      "     |      If *callback* is given and is not None, it will be called after\n",
      "     |      each trial with two arguments: ``callback(number, time_taken)``.\n",
      "     |  \n",
      "     |  print_exc(self, file=None)\n",
      "     |      Helper to print a traceback from the timed code.\n",
      "     |      \n",
      "     |      Typical use:\n",
      "     |      \n",
      "     |          t = Timer(...)       # outside the try/except\n",
      "     |          try:\n",
      "     |              t.timeit(...)    # or t.repeat(...)\n",
      "     |          except:\n",
      "     |              t.print_exc()\n",
      "     |      \n",
      "     |      The advantage over the standard traceback is that source lines\n",
      "     |      in the compiled template will be displayed.\n",
      "     |      \n",
      "     |      The optional file argument directs where the traceback is\n",
      "     |      sent; it defaults to sys.stderr.\n",
      "     |  \n",
      "     |  repeat(self, repeat=5, number=1000000)\n",
      "     |      Call timeit() a few times.\n",
      "     |      \n",
      "     |      This is a convenience function that calls the timeit()\n",
      "     |      repeatedly, returning a list of results.  The first argument\n",
      "     |      specifies how many times to call timeit(), defaulting to 5;\n",
      "     |      the second argument specifies the timer argument, defaulting\n",
      "     |      to one million.\n",
      "     |      \n",
      "     |      Note: it's tempting to calculate mean and standard deviation\n",
      "     |      from the result vector and report these.  However, this is not\n",
      "     |      very useful.  In a typical case, the lowest value gives a\n",
      "     |      lower bound for how fast your machine can run the given code\n",
      "     |      snippet; higher values in the result vector are typically not\n",
      "     |      caused by variability in Python's speed, but by other\n",
      "     |      processes interfering with your timing accuracy.  So the min()\n",
      "     |      of the result is probably the only number you should be\n",
      "     |      interested in.  After that, you should look at the entire\n",
      "     |      vector and apply common sense rather than statistics.\n",
      "     |  \n",
      "     |  timeit(self, number=1000000)\n",
      "     |      Time 'number' executions of the main statement.\n",
      "     |      \n",
      "     |      To be precise, this executes the setup statement once, and\n",
      "     |      then returns the time it takes to execute the main statement\n",
      "     |      a number of times, as a float measured in seconds.  The\n",
      "     |      argument is the number of times through the loop, defaulting\n",
      "     |      to one million.  The main statement, the setup statement and\n",
      "     |      the timer function to be used are passed to the constructor.\n",
      "     |  \n",
      "     |  ----------------------------------------------------------------------\n",
      "     |  Data descriptors defined here:\n",
      "     |  \n",
      "     |  __dict__\n",
      "     |      dictionary for instance variables (if defined)\n",
      "     |  \n",
      "     |  __weakref__\n",
      "     |      list of weak references to the object (if defined)\n",
      "\n",
      "FUNCTIONS\n",
      "    default_timer = perf_counter(...)\n",
      "        perf_counter() -> float\n",
      "        \n",
      "        Performance counter for benchmarking.\n",
      "    \n",
      "    repeat(stmt='pass', setup='pass', timer=<built-in function perf_counter>, repeat=5, number=1000000, globals=None)\n",
      "        Convenience function to create Timer object and call repeat method.\n",
      "    \n",
      "    timeit(stmt='pass', setup='pass', timer=<built-in function perf_counter>, number=1000000, globals=None)\n",
      "        Convenience function to create Timer object and call timeit method.\n",
      "\n",
      "DATA\n",
      "    __all__ = ['Timer', 'timeit', 'repeat', 'default_timer']\n",
      "\n",
      "FILE\n",
      "    /Users/rahulgupta/anaconda3/envs/new/lib/python3.9/timeit.py\n",
      "\n",
      "\n"
     ]
    }
   ],
   "source": [
    "#Getting the help of module timeit\n",
    "\n",
    "help(timeit)"
   ]
  },
  {
   "cell_type": "markdown",
   "id": "24e2de05",
   "metadata": {},
   "source": [
    "Display the help information about <strong>timeit.timeit</strong> method. (Marks 2)"
   ]
  },
  {
   "cell_type": "code",
   "execution_count": 4,
   "id": "70392bfa",
   "metadata": {},
   "outputs": [
    {
     "name": "stdout",
     "output_type": "stream",
     "text": [
      "Help on function timeit in module timeit:\n",
      "\n",
      "timeit(stmt='pass', setup='pass', timer=<built-in function perf_counter>, number=1000000, globals=None)\n",
      "    Convenience function to create Timer object and call timeit method.\n",
      "\n"
     ]
    }
   ],
   "source": [
    "# your Python code goes here\n",
    "#Getting the content of timeit from module timeit\n",
    "\n",
    "help(timeit.timeit)"
   ]
  },
  {
   "cell_type": "markdown",
   "id": "ba7e4239",
   "metadata": {},
   "source": [
    "### Task 2 (10 Marks)\n",
    "Given the following <strong>Python</strong> code."
   ]
  },
  {
   "cell_type": "code",
   "execution_count": 5,
   "id": "ed2ce699",
   "metadata": {},
   "outputs": [],
   "source": [
    "cities = ['Vancouver','Surrey','Burnaby','Langley']\n",
    "a = [2022,1e3 ,(49.25 , -123.12), False , cities ]"
   ]
  },
  {
   "cell_type": "markdown",
   "id": "851341b0",
   "metadata": {},
   "source": [
    "Using appropriate indices, extract <strong>1e3</strong> number from the list <strong>a</strong> (2 Marks)"
   ]
  },
  {
   "cell_type": "code",
   "execution_count": 6,
   "id": "4c38fc43",
   "metadata": {},
   "outputs": [
    {
     "name": "stdout",
     "output_type": "stream",
     "text": [
      "\t| Extracting 1e3 value from list a in integer is 1000 and in float is  1000.0\n"
     ]
    }
   ],
   "source": [
    "# your Python code goes here\n",
    "print(f'\\t| Extracting 1e3 value from list a in integer is {int(a[1])} and in float is  {a[1]}')"
   ]
  },
  {
   "cell_type": "markdown",
   "id": "b7afb310",
   "metadata": {},
   "source": [
    "Using appropriate indices, extract the list <strong>cities</strong> number from the list <strong>a</strong> (2 Marks)"
   ]
  },
  {
   "cell_type": "code",
   "execution_count": 7,
   "id": "0692cef8",
   "metadata": {},
   "outputs": [
    {
     "name": "stdout",
     "output_type": "stream",
     "text": [
      "\t| Extracting cities number from list a is 4\n"
     ]
    }
   ],
   "source": [
    "# your Python code goes here\n",
    "index = a.index(cities)\n",
    "print(f'\\t| Extracting cities number from list a is {index}')"
   ]
  },
  {
   "cell_type": "markdown",
   "id": "7f288dd7",
   "metadata": {},
   "source": [
    "Using appropriate indices, extract <strong>-123.12</strong> number from the list <strong>a</strong> (2 Marks)"
   ]
  },
  {
   "cell_type": "code",
   "execution_count": 8,
   "id": "41656ead",
   "metadata": {},
   "outputs": [
    {
     "name": "stdout",
     "output_type": "stream",
     "text": [
      "\t| Extracting -123.12 number from list a is -123.12\n"
     ]
    }
   ],
   "source": [
    "# your Python code goes here\n",
    "print(f'\\t| Extracting -123.12 number from list a is {a[2][1]}')"
   ]
  },
  {
   "cell_type": "markdown",
   "id": "88997680",
   "metadata": {},
   "source": [
    "Using appropriate indices, extract <strong>Langley</strong> cities from the list <strong>a</strong> (2 Marks)"
   ]
  },
  {
   "cell_type": "code",
   "execution_count": 9,
   "id": "8b9711f3",
   "metadata": {},
   "outputs": [
    {
     "name": "stdout",
     "output_type": "stream",
     "text": [
      "\t| The output from list a is Langley\n"
     ]
    }
   ],
   "source": [
    "# your Python code goes here\n",
    "print(f'\\t| The output from list a is {a[4][3]}')"
   ]
  },
  {
   "cell_type": "markdown",
   "id": "635374d8",
   "metadata": {},
   "source": [
    "Using appropriate indices, extract <strong>Burnaby</strong> cities from the list <strong>a</strong> (2 Marks)"
   ]
  },
  {
   "cell_type": "code",
   "execution_count": 10,
   "id": "130f39a9",
   "metadata": {},
   "outputs": [
    {
     "name": "stdout",
     "output_type": "stream",
     "text": [
      "\t| The output from list a is Burnaby\n"
     ]
    }
   ],
   "source": [
    "# your Python code goes here\n",
    "print(f'\\t| The output from list a is {a[4][2]}')"
   ]
  },
  {
   "cell_type": "markdown",
   "id": "0dd56391",
   "metadata": {},
   "source": [
    "### Task 3 (24 Marks)\n",
    "Using <strong>timeit.timeit()</strong> method, you are going to compute the time that takes to create <strong>10<sup>6</strong> of copies of the list <strong>[1,2,3,4,5]</strong> and <strong>10<sup>6</strong> copies of the <strong>(1,2,3,4,5)</strong>"
   ]
  },
  {
   "cell_type": "markdown",
   "id": "5a718578",
   "metadata": {},
   "source": [
    "Create a <strong>list</strong> with a name <strong>my_list</strong> that contains the following numbers <strong>1,2,3,4,5</strong> and print its content. (2 Marks)"
   ]
  },
  {
   "cell_type": "code",
   "execution_count": 11,
   "id": "a755dd90",
   "metadata": {},
   "outputs": [
    {
     "name": "stdout",
     "output_type": "stream",
     "text": [
      "\t| The output from list my_list is [1, 2, 3, 4, 5]\n"
     ]
    }
   ],
   "source": [
    "# your Python code goes here\n",
    "#Creating list with name my_list and 1 to 5 as values\n",
    "my_list=[1,2,3,4,5]\n",
    "print(f'\\t| The output from list my_list is {my_list}')"
   ]
  },
  {
   "cell_type": "markdown",
   "id": "a60017e4",
   "metadata": {},
   "source": [
    "Create a <strong>tuple</strong> with a name <strong>my_tuple</strong> that contains the following numbers <strong>1,2,3,4,5</strong> and print its content. (2 Marks)"
   ]
  },
  {
   "cell_type": "code",
   "execution_count": 12,
   "id": "6d840fb2",
   "metadata": {},
   "outputs": [
    {
     "name": "stdout",
     "output_type": "stream",
     "text": [
      "\t| The output from tuple my_tuple is (1, 2, 3, 4, 5)\n"
     ]
    }
   ],
   "source": [
    "# your Python code goes here\n",
    "#Creating a tuple with my_tuple as its name and 1 to 5 as its values\n",
    "my_tuple=(1,2,3,4,5)\n",
    "\n",
    "print(f'\\t| The output from tuple my_tuple is {my_tuple}')"
   ]
  },
  {
   "cell_type": "markdown",
   "id": "373780a4",
   "metadata": {},
   "source": [
    "What is the time it requires to create <strong>10<sup>6</strong> of copies of the list <strong>[1,2,3,4,5]</strong>? (5 Marks)"
   ]
  },
  {
   "cell_type": "code",
   "execution_count": 19,
   "id": "dbb3ff2a",
   "metadata": {},
   "outputs": [],
   "source": [
    "import time\n",
    "repeat_1 = int(1e6)\n",
    "repeat_2 = int(1e9)"
   ]
  },
  {
   "cell_type": "code",
   "execution_count": 26,
   "id": "bed231e1",
   "metadata": {},
   "outputs": [
    {
     "name": "stdout",
     "output_type": "stream",
     "text": [
      "| Execution time is 0.0279 seconds & Processed time is 0.0264 seconds\n"
     ]
    }
   ],
   "source": [
    "s=\"\"\"\n",
    "my_list=[1,2,3,4,5]\n",
    "my_list\n",
    "\"\"\"\n",
    "\n",
    "execution_time=timeit.timeit(stmt=s,timer=time.process_time,number=repeat_1)\n",
    "processed_time=timeit.timeit(stmt=s,timer=time.perf_counter,number=repeat_1)\n",
    "print(f'| Execution time is {execution_time:.4f} seconds & Processed time is {processed_time:.4f} seconds')"
   ]
  },
  {
   "cell_type": "markdown",
   "id": "f7ba18da",
   "metadata": {},
   "source": [
    "What is the time it requires to create <strong>10<sup>6</strong> of copies of the tuple <strong>(1,2,3,4,5)</strong>? (5 Marks)"
   ]
  },
  {
   "cell_type": "code",
   "execution_count": 27,
   "id": "26bfaccc",
   "metadata": {},
   "outputs": [
    {
     "name": "stdout",
     "output_type": "stream",
     "text": [
      "| Execution time is 0.0090 seconds & Processed time is 0.0091 seconds\n"
     ]
    }
   ],
   "source": [
    "# your Python code goes here\n",
    "s=\"\"\"\n",
    "my_tuple_1=(1,2,3,4,5)\n",
    "my_tuple_1\n",
    "\"\"\"\n",
    "\n",
    "execution_time=timeit.timeit(stmt=s,timer=time.process_time,number=repeat_1)\n",
    "processed_time=timeit.timeit(stmt=s,timer=time.perf_counter,number=repeat_1)\n",
    "print(f'| Execution time is {execution_time:.4f} seconds & Processed time is {processed_time:.4f} seconds')"
   ]
  },
  {
   "cell_type": "markdown",
   "id": "5ada918d",
   "metadata": {},
   "source": [
    "What is the time it requires to create <strong>10<sup>9</strong> of copies of the list <strong>[1,2,3,4,5]</strong>? (5 Marks)"
   ]
  },
  {
   "cell_type": "code",
   "execution_count": 25,
   "id": "dce8c1a5",
   "metadata": {},
   "outputs": [
    {
     "name": "stdout",
     "output_type": "stream",
     "text": [
      "| Execution time is 25.3762 seconds & Processed time is 25.1916 seconds\n"
     ]
    }
   ],
   "source": [
    "# your Python code goes here\n",
    "s=\"\"\"\n",
    "my_list_1=[1,2,3,4,5]\n",
    "my_list_1\n",
    "\"\"\"\n",
    "\n",
    "execution_time=timeit.timeit(stmt=s,timer=time.process_time,number=repeat_2)\n",
    "processed_time=timeit.timeit(stmt=s,timer=time.perf_counter,number=repeat_2)\n",
    "print(f'| Execution time is {execution_time:.4f} seconds & Processed time is {processed_time:.4f} seconds')"
   ]
  },
  {
   "cell_type": "markdown",
   "id": "5a10f372",
   "metadata": {},
   "source": [
    "What is the time it requires to create <strong>10<sup>9</strong> of copies of the tuple <strong>(1,2,3,4,5)</strong>? (5 Marks)"
   ]
  },
  {
   "cell_type": "code",
   "execution_count": 24,
   "id": "7c6b2f0d",
   "metadata": {},
   "outputs": [
    {
     "name": "stdout",
     "output_type": "stream",
     "text": [
      "| Execution time is 7.7718 seconds & Processed time is 7.6734 seconds\n"
     ]
    }
   ],
   "source": [
    "# your Python code goes here\n",
    "# your Python code goes here\n",
    "s=\"\"\"\n",
    "my_tuple_2=(1,2,3,4,5)\n",
    "my_tuple_2\n",
    "\"\"\"\n",
    "\n",
    "execution_time=timeit.timeit(stmt=s,timer=time.process_time,number=repeat_2)\n",
    "processed_time=timeit.timeit(stmt=s,timer=time.perf_counter,number=repeat_2)\n",
    "print(f'| Execution time is {execution_time:.4f} seconds & Processed time is {processed_time:.4f} seconds')"
   ]
  },
  {
   "cell_type": "code",
   "execution_count": null,
   "id": "d7608e51",
   "metadata": {},
   "outputs": [],
   "source": []
  }
 ],
 "metadata": {
  "interpreter": {
   "hash": "81794d4967e6c3204c66dcd87b604927b115b27c00565d3d43f05ba2f3a2cb0d"
  },
  "kernelspec": {
   "display_name": "Python 3 (ipykernel)",
   "language": "python",
   "name": "python3"
  },
  "language_info": {
   "codemirror_mode": {
    "name": "ipython",
    "version": 3
   },
   "file_extension": ".py",
   "mimetype": "text/x-python",
   "name": "python",
   "nbconvert_exporter": "python",
   "pygments_lexer": "ipython3",
   "version": "3.9.16"
  }
 },
 "nbformat": 4,
 "nbformat_minor": 5
}
